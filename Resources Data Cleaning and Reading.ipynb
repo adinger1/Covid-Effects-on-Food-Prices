{
 "cells": [
  {
   "cell_type": "code",
   "execution_count": 1,
   "id": "0129305f",
   "metadata": {},
   "outputs": [],
   "source": [
    "import pandas as pd\n",
    "import numpy as np"
   ]
  },
  {
   "cell_type": "code",
   "execution_count": null,
   "id": "26bf0aab",
   "metadata": {},
   "outputs": [],
   "source": []
  },
  {
   "cell_type": "code",
   "execution_count": 2,
   "id": "621a98e0",
   "metadata": {},
   "outputs": [],
   "source": [
    "dom_change_data = pd.read_csv('Resources/dom_change_percent.csv')"
   ]
  },
  {
   "cell_type": "code",
   "execution_count": 3,
   "id": "7922aa18",
   "metadata": {},
   "outputs": [],
   "source": [
    "dom_clean_data=pd.read_csv('Resources/dom_clean_data.csv')"
   ]
  },
  {
   "cell_type": "code",
   "execution_count": 4,
   "id": "1d0575b6",
   "metadata": {},
   "outputs": [],
   "source": [
    "int_clean_data=pd.read_csv('Resources/int_clean_data.csv')"
   ]
  },
  {
   "cell_type": "code",
   "execution_count": null,
   "id": "cf6b22da",
   "metadata": {},
   "outputs": [],
   "source": []
  },
  {
   "cell_type": "code",
   "execution_count": null,
   "id": "123b2538",
   "metadata": {},
   "outputs": [],
   "source": []
  },
  {
   "cell_type": "code",
   "execution_count": null,
   "id": "109db09d",
   "metadata": {},
   "outputs": [],
   "source": []
  },
  {
   "cell_type": "code",
   "execution_count": 5,
   "id": "c305ac51",
   "metadata": {},
   "outputs": [
    {
     "data": {
      "text/html": [
       "<div>\n",
       "<style scoped>\n",
       "    .dataframe tbody tr th:only-of-type {\n",
       "        vertical-align: middle;\n",
       "    }\n",
       "\n",
       "    .dataframe tbody tr th {\n",
       "        vertical-align: top;\n",
       "    }\n",
       "\n",
       "    .dataframe thead th {\n",
       "        text-align: right;\n",
       "    }\n",
       "</style>\n",
       "<table border=\"1\" class=\"dataframe\">\n",
       "  <thead>\n",
       "    <tr style=\"text-align: right;\">\n",
       "      <th></th>\n",
       "      <th>Unnamed: 0</th>\n",
       "      <th>country</th>\n",
       "      <th>price_type</th>\n",
       "      <th>market</th>\n",
       "      <th>commodity</th>\n",
       "      <th>percent</th>\n",
       "      <th>post_covid</th>\n",
       "      <th>yearly</th>\n",
       "    </tr>\n",
       "  </thead>\n",
       "  <tbody>\n",
       "    <tr>\n",
       "      <th>0</th>\n",
       "      <td>0</td>\n",
       "      <td>Cote d'Ivoire</td>\n",
       "      <td>Retail</td>\n",
       "      <td>Abidjan</td>\n",
       "      <td>AttiÃ©kÃ©</td>\n",
       "      <td>NaN</td>\n",
       "      <td>-0.061538</td>\n",
       "      <td>-0.031746</td>\n",
       "    </tr>\n",
       "    <tr>\n",
       "      <th>1</th>\n",
       "      <td>1</td>\n",
       "      <td>Cameroon</td>\n",
       "      <td>Retail</td>\n",
       "      <td>YaundÃ©</td>\n",
       "      <td>Bananas (plantains)</td>\n",
       "      <td>NaN</td>\n",
       "      <td>0.000000</td>\n",
       "      <td>0.000000</td>\n",
       "    </tr>\n",
       "    <tr>\n",
       "      <th>2</th>\n",
       "      <td>2</td>\n",
       "      <td>Cameroon</td>\n",
       "      <td>Retail</td>\n",
       "      <td>Bafoussam</td>\n",
       "      <td>Bananas (plantains)</td>\n",
       "      <td>NaN</td>\n",
       "      <td>-0.305556</td>\n",
       "      <td>0.041667</td>\n",
       "    </tr>\n",
       "    <tr>\n",
       "      <th>3</th>\n",
       "      <td>3</td>\n",
       "      <td>Morocco</td>\n",
       "      <td>Retail</td>\n",
       "      <td>National Average</td>\n",
       "      <td>Barley (imported)</td>\n",
       "      <td>NaN</td>\n",
       "      <td>-0.034483</td>\n",
       "      <td>-0.034483</td>\n",
       "    </tr>\n",
       "    <tr>\n",
       "      <th>4</th>\n",
       "      <td>4</td>\n",
       "      <td>Cote d'Ivoire</td>\n",
       "      <td>Retail</td>\n",
       "      <td>Abidjan</td>\n",
       "      <td>Banana (plantains)</td>\n",
       "      <td>NaN</td>\n",
       "      <td>0.769231</td>\n",
       "      <td>0.232143</td>\n",
       "    </tr>\n",
       "  </tbody>\n",
       "</table>\n",
       "</div>"
      ],
      "text/plain": [
       "   Unnamed: 0        country price_type            market  \\\n",
       "0           0  Cote d'Ivoire     Retail           Abidjan   \n",
       "1           1       Cameroon     Retail           YaundÃ©   \n",
       "2           2       Cameroon     Retail         Bafoussam   \n",
       "3           3        Morocco     Retail  National Average   \n",
       "4           4  Cote d'Ivoire     Retail           Abidjan   \n",
       "\n",
       "             commodity  percent  post_covid    yearly  \n",
       "0            AttiÃ©kÃ©      NaN   -0.061538 -0.031746  \n",
       "1  Bananas (plantains)      NaN    0.000000  0.000000  \n",
       "2  Bananas (plantains)      NaN   -0.305556  0.041667  \n",
       "3    Barley (imported)      NaN   -0.034483 -0.034483  \n",
       "4   Banana (plantains)      NaN    0.769231  0.232143  "
      ]
     },
     "execution_count": 5,
     "metadata": {},
     "output_type": "execute_result"
    }
   ],
   "source": [
    "dom_change_data.head()"
   ]
  },
  {
   "cell_type": "code",
   "execution_count": 6,
   "id": "e20575ed",
   "metadata": {},
   "outputs": [
    {
     "data": {
      "text/plain": [
       "array([\"Cote d'Ivoire\", 'Cameroon', 'Morocco',\n",
       "       'Democratic Republic of the Congo', 'Rwanda', 'Costa Rica',\n",
       "       'United Republic of Tanzania', 'Uganda', 'Haiti',\n",
       "       'Dominican Republic', 'Guatemala', 'Mexico', 'Panama',\n",
       "       'El Salvador', 'Honduras', 'Nicaragua', 'Iraq', 'Argentina',\n",
       "       'Egypt', 'Azerbaijan', 'Botswana', 'Georgia', 'Kazakhstan',\n",
       "       'Kyrgyzstan', 'Mauritania', 'Mongolia', 'Afghanistan',\n",
       "       'Tajikistan', 'Russian Federation', 'South Africa', 'Tunisia',\n",
       "       'Bolivia', 'Chile', 'Zimbabwe', 'Israel', 'Peru', 'Brazil',\n",
       "       'Eswatini', 'Belarus', 'Armenia', 'Occupied Palestinian Territory',\n",
       "       'Japan', 'Zambia', 'South Sudan', 'Mozambique', 'Angola',\n",
       "       'Thailand', 'Paraguay', 'Benin', 'Cabo Verde', 'Togo', 'Ghana',\n",
       "       'Malawi', 'Yemen', 'Samoa', 'India', 'Saudi Arabia', 'Myanmar',\n",
       "       'Nigeria', 'Burundi', 'Chad', 'Ecuador', 'Ethiopia', 'Kenya',\n",
       "       'Niger', 'Guinea', 'Colombia', 'Philippines', 'Somalia', 'Namibia',\n",
       "       'Senegal', 'Sudan', 'Burkina Faso', 'Mali', 'Sierra Leone',\n",
       "       'Cambodia', 'Indonesia', 'Uruguay', 'China', 'Bangladesh',\n",
       "       \"Lao People's Democratic Republic\", 'Pakistan', 'Nepal', 'Liberia',\n",
       "       'Italy', 'Sri Lanka', 'Ukraine', 'Uzbekistan'], dtype=object)"
      ]
     },
     "execution_count": 6,
     "metadata": {},
     "output_type": "execute_result"
    }
   ],
   "source": [
    "dom_change_data['country'].unique()"
   ]
  },
  {
   "cell_type": "code",
   "execution_count": 7,
   "id": "7965e193",
   "metadata": {},
   "outputs": [
    {
     "data": {
      "text/html": [
       "<div>\n",
       "<style scoped>\n",
       "    .dataframe tbody tr th:only-of-type {\n",
       "        vertical-align: middle;\n",
       "    }\n",
       "\n",
       "    .dataframe tbody tr th {\n",
       "        vertical-align: top;\n",
       "    }\n",
       "\n",
       "    .dataframe thead th {\n",
       "        text-align: right;\n",
       "    }\n",
       "</style>\n",
       "<table border=\"1\" class=\"dataframe\">\n",
       "  <thead>\n",
       "    <tr style=\"text-align: right;\">\n",
       "      <th></th>\n",
       "      <th>Unnamed: 0</th>\n",
       "      <th>month</th>\n",
       "      <th>country</th>\n",
       "      <th>price_type</th>\n",
       "      <th>market</th>\n",
       "      <th>commodity</th>\n",
       "      <th>price</th>\n",
       "    </tr>\n",
       "  </thead>\n",
       "  <tbody>\n",
       "    <tr>\n",
       "      <th>0</th>\n",
       "      <td>0</td>\n",
       "      <td>6/1/2020</td>\n",
       "      <td>Cote d'Ivoire</td>\n",
       "      <td>Retail</td>\n",
       "      <td>Abidjan</td>\n",
       "      <td>AttiÃ©kÃ©</td>\n",
       "      <td>NaN</td>\n",
       "    </tr>\n",
       "    <tr>\n",
       "      <th>1</th>\n",
       "      <td>1</td>\n",
       "      <td>5/1/2020</td>\n",
       "      <td>Cote d'Ivoire</td>\n",
       "      <td>Retail</td>\n",
       "      <td>Abidjan</td>\n",
       "      <td>AttiÃ©kÃ©</td>\n",
       "      <td>0.61</td>\n",
       "    </tr>\n",
       "    <tr>\n",
       "      <th>2</th>\n",
       "      <td>2</td>\n",
       "      <td>4/1/2020</td>\n",
       "      <td>Cote d'Ivoire</td>\n",
       "      <td>Retail</td>\n",
       "      <td>Abidjan</td>\n",
       "      <td>AttiÃ©kÃ©</td>\n",
       "      <td>0.59</td>\n",
       "    </tr>\n",
       "    <tr>\n",
       "      <th>3</th>\n",
       "      <td>3</td>\n",
       "      <td>3/1/2020</td>\n",
       "      <td>Cote d'Ivoire</td>\n",
       "      <td>Retail</td>\n",
       "      <td>Abidjan</td>\n",
       "      <td>AttiÃ©kÃ©</td>\n",
       "      <td>0.61</td>\n",
       "    </tr>\n",
       "    <tr>\n",
       "      <th>4</th>\n",
       "      <td>4</td>\n",
       "      <td>2/1/2020</td>\n",
       "      <td>Cote d'Ivoire</td>\n",
       "      <td>Retail</td>\n",
       "      <td>Abidjan</td>\n",
       "      <td>AttiÃ©kÃ©</td>\n",
       "      <td>0.63</td>\n",
       "    </tr>\n",
       "  </tbody>\n",
       "</table>\n",
       "</div>"
      ],
      "text/plain": [
       "   Unnamed: 0     month        country price_type   market  commodity  price\n",
       "0           0  6/1/2020  Cote d'Ivoire     Retail  Abidjan  AttiÃ©kÃ©    NaN\n",
       "1           1  5/1/2020  Cote d'Ivoire     Retail  Abidjan  AttiÃ©kÃ©   0.61\n",
       "2           2  4/1/2020  Cote d'Ivoire     Retail  Abidjan  AttiÃ©kÃ©   0.59\n",
       "3           3  3/1/2020  Cote d'Ivoire     Retail  Abidjan  AttiÃ©kÃ©   0.61\n",
       "4           4  2/1/2020  Cote d'Ivoire     Retail  Abidjan  AttiÃ©kÃ©   0.63"
      ]
     },
     "execution_count": 7,
     "metadata": {},
     "output_type": "execute_result"
    }
   ],
   "source": [
    "dom_clean_data.head()"
   ]
  },
  {
   "cell_type": "code",
   "execution_count": 8,
   "id": "62b37a97",
   "metadata": {},
   "outputs": [
    {
     "data": {
      "text/plain": [
       "array(['AttiÃ©kÃ©', 'Bananas (plantains)', 'Barley (imported)',\n",
       "       'Banana (plantains)', 'Barley (local)', 'Beans', 'Beans (black)',\n",
       "       'Beans (poroto)', 'Beans (red)', 'Beans (wild)', 'Beans (white)',\n",
       "       'Beef meat', 'Bread', 'Bread (Sabbath loaf)',\n",
       "       'Bread (French type)', 'Bread (brown)', 'Bread (high grade flour)',\n",
       "       'Bread (first grade flour)', 'Bread (white)', 'Cabbage',\n",
       "       'Breakfast maize meal', 'Camel meat', 'Cassava', 'Cassava (dry)',\n",
       "       'Cassava (flour)', 'Cassava (fresh)', 'Cassava (gari)',\n",
       "       'Cassava (manioc)', 'Cassava (root)', 'Chicken (without offals)',\n",
       "       'Chicken (processed)', 'Chicken meat', 'Chickpeas', 'Lentils',\n",
       "       'Lamb meat', 'Groundnuts', 'Groundnut Oil', 'Gari (white)', 'Gram',\n",
       "       'Maize', 'Maize (flour)', 'Maize (local)', 'Maize (white)',\n",
       "       'Maize (white flour)', 'Maize (yellow)', 'Maize (yellow flour)',\n",
       "       'Maize meal', 'Maize meal (local)', 'Milk', 'Milk (Camel)',\n",
       "       'Milk (powder)', 'Millet', 'Mutton meat', 'Olive Oil', 'Palm Oil',\n",
       "       'Onions', 'Pasta', 'Plantains', 'Pork meat',\n",
       "       'Pork meat with bones', 'Potatoes', 'Quinoa', 'Potatoes (white)',\n",
       "       'Prawn', 'Rice', 'Radish', 'Rice (imported)', 'Rice ', 'Samp',\n",
       "       'Sorghum', 'Semolina', 'Soya beans', 'Sugar', 'Tortillas',\n",
       "       'Tomatoes', 'Taro', 'Teff (mixed)', 'Wheat', 'Vegetable oil',\n",
       "       'Wheat (flour)', 'Wheat (milling soft)', 'Wheat (white)',\n",
       "       'White roller maize meal', 'Yam'], dtype=object)"
      ]
     },
     "execution_count": 8,
     "metadata": {},
     "output_type": "execute_result"
    }
   ],
   "source": [
    "dom_clean_data['commodity'].unique()"
   ]
  },
  {
   "cell_type": "code",
   "execution_count": 9,
   "id": "4671cae1",
   "metadata": {},
   "outputs": [],
   "source": [
    "value_fix={'AttiÃ©kÃ©':'Attieke'}\n",
    "\n",
    "dom_clean_data['commodity'] = dom_clean_data['commodity'].replace(value_fix)"
   ]
  },
  {
   "cell_type": "code",
   "execution_count": 10,
   "id": "816b9034",
   "metadata": {},
   "outputs": [],
   "source": [
    "dom_clean_data=dom_clean_data.dropna()"
   ]
  },
  {
   "cell_type": "code",
   "execution_count": 11,
   "id": "c5f95e7e",
   "metadata": {},
   "outputs": [
    {
     "data": {
      "text/html": [
       "<div>\n",
       "<style scoped>\n",
       "    .dataframe tbody tr th:only-of-type {\n",
       "        vertical-align: middle;\n",
       "    }\n",
       "\n",
       "    .dataframe tbody tr th {\n",
       "        vertical-align: top;\n",
       "    }\n",
       "\n",
       "    .dataframe thead th {\n",
       "        text-align: right;\n",
       "    }\n",
       "</style>\n",
       "<table border=\"1\" class=\"dataframe\">\n",
       "  <thead>\n",
       "    <tr style=\"text-align: right;\">\n",
       "      <th></th>\n",
       "      <th>Unnamed: 0</th>\n",
       "      <th>month</th>\n",
       "      <th>country</th>\n",
       "      <th>price_type</th>\n",
       "      <th>market</th>\n",
       "      <th>commodity</th>\n",
       "      <th>price</th>\n",
       "    </tr>\n",
       "  </thead>\n",
       "  <tbody>\n",
       "    <tr>\n",
       "      <th>1</th>\n",
       "      <td>1</td>\n",
       "      <td>5/1/2020</td>\n",
       "      <td>Cote d'Ivoire</td>\n",
       "      <td>Retail</td>\n",
       "      <td>Abidjan</td>\n",
       "      <td>Attieke</td>\n",
       "      <td>0.61</td>\n",
       "    </tr>\n",
       "    <tr>\n",
       "      <th>2</th>\n",
       "      <td>2</td>\n",
       "      <td>4/1/2020</td>\n",
       "      <td>Cote d'Ivoire</td>\n",
       "      <td>Retail</td>\n",
       "      <td>Abidjan</td>\n",
       "      <td>Attieke</td>\n",
       "      <td>0.59</td>\n",
       "    </tr>\n",
       "    <tr>\n",
       "      <th>3</th>\n",
       "      <td>3</td>\n",
       "      <td>3/1/2020</td>\n",
       "      <td>Cote d'Ivoire</td>\n",
       "      <td>Retail</td>\n",
       "      <td>Abidjan</td>\n",
       "      <td>Attieke</td>\n",
       "      <td>0.61</td>\n",
       "    </tr>\n",
       "    <tr>\n",
       "      <th>4</th>\n",
       "      <td>4</td>\n",
       "      <td>2/1/2020</td>\n",
       "      <td>Cote d'Ivoire</td>\n",
       "      <td>Retail</td>\n",
       "      <td>Abidjan</td>\n",
       "      <td>Attieke</td>\n",
       "      <td>0.63</td>\n",
       "    </tr>\n",
       "    <tr>\n",
       "      <th>5</th>\n",
       "      <td>5</td>\n",
       "      <td>1/1/2020</td>\n",
       "      <td>Cote d'Ivoire</td>\n",
       "      <td>Retail</td>\n",
       "      <td>Abidjan</td>\n",
       "      <td>Attieke</td>\n",
       "      <td>0.68</td>\n",
       "    </tr>\n",
       "  </tbody>\n",
       "</table>\n",
       "</div>"
      ],
      "text/plain": [
       "   Unnamed: 0     month        country price_type   market commodity  price\n",
       "1           1  5/1/2020  Cote d'Ivoire     Retail  Abidjan   Attieke   0.61\n",
       "2           2  4/1/2020  Cote d'Ivoire     Retail  Abidjan   Attieke   0.59\n",
       "3           3  3/1/2020  Cote d'Ivoire     Retail  Abidjan   Attieke   0.61\n",
       "4           4  2/1/2020  Cote d'Ivoire     Retail  Abidjan   Attieke   0.63\n",
       "5           5  1/1/2020  Cote d'Ivoire     Retail  Abidjan   Attieke   0.68"
      ]
     },
     "execution_count": 11,
     "metadata": {},
     "output_type": "execute_result"
    }
   ],
   "source": [
    "dom_clean_data.head()"
   ]
  },
  {
   "cell_type": "code",
   "execution_count": 12,
   "id": "dc85953f",
   "metadata": {},
   "outputs": [
    {
     "data": {
      "text/plain": [
       "array(['Abidjan', 'YaundÃ©', 'Bafoussam', 'National Average', 'Douala',\n",
       "       'Bukavu', 'Bamenda', 'Goma', 'Kigali', 'Lubumbashi', 'Mombasa',\n",
       "       'Nakuru', 'Ruhengeri', 'Dar es Salaam', 'Lira', 'Kampala',\n",
       "       'Cap Haitien', 'Santo Domingo', 'Guatemala City', 'Ouanaminthe',\n",
       "       'Les Cayes', 'Jeremie', 'Jacmel', 'Hinche', 'Port-au-Prince',\n",
       "       'Guadalajara', 'Puebla', 'Mexico City', 'Xalapa', 'Panama City',\n",
       "       'San Salvador', 'Garoua', 'San Pedro Sula', 'Tegucigalpa',\n",
       "       'Managua (oriental)', 'Greater Buenos Aires', 'Aktau', 'Almaty',\n",
       "       'Kostanay', 'Nur-Sultan', 'Batken', 'Bishkek', 'Jalal-Abad',\n",
       "       'Naryn', 'Osh', 'Nouakchott', 'Selenge', 'Dornod', 'Bayan-Ulgii',\n",
       "       'Jalalabad', 'Herat', 'Kabul', 'Kandahar', 'Ulaanbaatar',\n",
       "       'Uvurkhangai', 'Potosi', 'Santiago', 'Bulawayo', 'Manicaland',\n",
       "       'Harare', 'Mash east', 'Mash central', 'Masvingo', 'Mash west',\n",
       "       'Lima', 'SÃ£o Paulo', 'Mat north', 'Mat south', 'Midlands',\n",
       "       'Hhohho', 'Manzini', 'Lubombo', 'Minsk', 'National average',\n",
       "       'Shiselweni', 'Gaza Strip', 'West Bank', 'Tokyo', 'Osaka',\n",
       "       'Buchanan', 'Monrovia', 'Saclepea', 'Bo', 'Freetown', 'Kailahun',\n",
       "       'Koinadugu', 'Juba', 'Kenema', 'Nampula', 'Luanda', 'Bangkok',\n",
       "       'AsunciÃ³n', 'Cotonou', 'S.Vincente', 'Natitingou', 'Parakou',\n",
       "       'Amegnran', 'Anie', 'CinkassÃ©', 'Kara', 'Korbongou', 'LomÃ©',\n",
       "       'S.AntÃ£o', 'Accra', 'Tamale', 'Techiman', 'Mzuzu', 'Cochabamba',\n",
       "       'La Paz', 'Oruro', 'Santa Cruz', 'Sucre', 'Tarija', 'Trinidad',\n",
       "       'Hadramout', 'Dhamar', 'New Delhi', 'Mumbai', 'Chennai', 'Hajjah',\n",
       "       'Hodeidah', 'Sanaa', 'Yangon', 'Ibadan', 'Kano', 'Kaura Namoda',\n",
       "       'Lagos', 'Maiduguri', 'Bujumbura', 'Ngozi', 'Gitega', \"N'Djamena\",\n",
       "       'Bol', 'Moussoro', 'Ambato', 'Mekele', 'Diredawa', 'Bahirdar',\n",
       "       'Guayaquil', 'Quito', 'Riobamba', 'Addis Ababa', 'Kumasi',\n",
       "       'Bolgatanga', 'Kisumu', 'Eldoret', 'Liwonde', 'Lilongwe',\n",
       "       'Nairobi', 'Zinder', 'Tillaberi', 'Niamey', 'Maradi', 'Dosso',\n",
       "       'Mzimba', 'Nsanje', 'Agadez', 'Arusha', 'Masindi', 'Kabale',\n",
       "       'Conakry', 'MedellÃ\\xadn', 'Angonia', 'Chokwe', 'Gorongosa',\n",
       "       'Manica', 'Maputo', 'Maxixe', 'Milange', 'Montepuez', 'Ribaue',\n",
       "       'Giwa', 'South Cotabato', 'Belet Weyne', 'Baidoa', 'Hargeisa',\n",
       "       'Borama', 'Buale', 'Galkayo', 'Hudur', 'Kismayo', 'Marka',\n",
       "       'Mogadishu', 'Qorioley', 'Randfontein', 'Aweil', 'Bor', 'Gogrial',\n",
       "       'Rumbek', 'Torit', 'Wau', 'Yambio', 'CuliacÃ¡n', 'Davao City',\n",
       "       'Cebu', 'Rosario', 'Mato Grosso', 'Federal District', 'ParanÃ¡',\n",
       "       'Rio Grande do Sul', 'Portoviejo', 'Cuenca', 'Cartagena',\n",
       "       'BogotÃ¡', 'MetroManila', 'Katima', 'Gobabis', 'Keetmanshoop',\n",
       "       'Mariental', 'Oshakati', 'Otjiwarongo', 'Swakopmund', 'Windhoek',\n",
       "       'Ahmedabad', 'Bengaluru', 'Bhopal', 'Patna', 'Abeche', 'Moundou',\n",
       "       'Sarh', 'Kaolack', 'Fatick', 'Diourbel', 'Dakar', 'El Gedarif',\n",
       "       'Al-Fashir', 'Kolda', 'Louga', 'Matam', 'SaintLouis',\n",
       "       'Tambacounda', 'Thies', 'Zguinchor', 'Al-Damazin', 'El Obeid',\n",
       "       'Kadugli', 'Khartoum', 'Nyala', 'Port Sudan', 'Bobo Dioulasso',\n",
       "       'Dori', 'DÃ©dougou', \"Fada N'gourma\", 'Kongoussi', 'Nouna',\n",
       "       'Ouagadougou', 'Tenkodogo', 'Bamako', 'Gao', 'Kayes', 'Mopti',\n",
       "       'Sikasso', 'SÃ©gou', 'Tombouctou', 'Iloilo', 'Nueva Ecija',\n",
       "       'Khorugh', 'Khatlon', 'Dushanbe', 'Khujand', 'Kurgonteppa',\n",
       "       'Sughd', 'Kampot', 'Dhaka', 'Phnom Penh', 'Kampong Chhnang',\n",
       "       'Battambang', 'Banteay Meanchey', 'Multan', 'Karachi', 'Lahore',\n",
       "       'Quetta', 'Kathmandu', 'Bossaso', 'Lasanod', 'Colombo', 'Dongola',\n",
       "       'Dinsoor', 'Kampong Cham', 'Barranquilla', 'Buenos Aires',\n",
       "       'Peshawar', 'Bale Robe', 'Debre Marcos', 'Jimma', 'Shashemene'],\n",
       "      dtype=object)"
      ]
     },
     "execution_count": 12,
     "metadata": {},
     "output_type": "execute_result"
    }
   ],
   "source": [
    "dom_clean_data['market'].unique()"
   ]
  },
  {
   "cell_type": "code",
   "execution_count": 13,
   "id": "ae5cd871",
   "metadata": {},
   "outputs": [
    {
     "data": {
      "text/plain": [
       "{'MedellÃn': 'Medellín',\n",
       " 'CuliacÃ¡n': 'Culiacán',\n",
       " 'Federal District': 'Distrito Federal',\n",
       " 'ParanÃ¡': 'Paraná',\n",
       " 'BogotÃ¡': 'Bogotá',\n",
       " 'MetroManila': 'Metro Manila',\n",
       " 'DÃ©dougou': 'Dédougou',\n",
       " 'SÃ©gou': 'Ségou',\n",
       " 'Tombouctou': 'Timbuktu',\n",
       " 'YaundÃ©': 'Yaoundé',\n",
       " 'SÃ£o Paulo': 'São Paulo',\n",
       " 'AsunciÃ³n': 'Asunción',\n",
       " 'S.Vincente': 'São Vicente',\n",
       " 'CinkassÃ©': 'Cinkassé',\n",
       " 'LomÃ©': 'Lomé',\n",
       " 'S.AntÃ£o': 'Santo Antão',\n",
       " 'MedellÃ\\xadn': 'Medellín'}"
      ]
     },
     "execution_count": 13,
     "metadata": {},
     "output_type": "execute_result"
    }
   ],
   "source": [
    "incorrect_city_list=[\"MedellÃn\", \"CuliacÃ¡n\", \"Federal District\",\"ParanÃ¡\",\"BogotÃ¡\", \"MetroManila\", \"CuliacÃ¡n\",\n",
    "\"DÃ©dougou\", \"SÃ©gou\",\"Tombouctou\",'YaundÃ©', 'SÃ£o Paulo', 'AsunciÃ³n', 'S.Vincente', 'CinkassÃ©', 'LomÃ©', 'S.AntÃ£o','MedellÃ\\xadn']\n",
    "corrected_city_list = [\"Medellín\",\"Culiacán\",\"Distrito Federal\",\"Paraná\",\"Bogotá\",\"Metro Manila\",\"Culiacán\",\"Dédougou\",\"Ségou\"\n",
    "                       ,\"Timbuktu\",'Yaoundé', 'São Paulo', 'Asunción', 'São Vicente', 'Cinkassé', 'Lomé', 'Santo Antão','Medellín']\n",
    "#if we made this into a dictionary, where the incorrect cities would be the key and the correct cities would be the value, if \n",
    "#the market value is in the list of keys, then set the market value equal to correct value\n",
    "\n",
    "cities_dict = dict(zip(incorrect_city_list, corrected_city_list))\n",
    "cities_dict"
   ]
  },
  {
   "cell_type": "code",
   "execution_count": 14,
   "id": "235cb197",
   "metadata": {},
   "outputs": [],
   "source": [
    "dom_clean_data['market'] = dom_clean_data['market'].replace(cities_dict)"
   ]
  },
  {
   "cell_type": "code",
   "execution_count": 15,
   "id": "5d87979b",
   "metadata": {},
   "outputs": [
    {
     "data": {
      "text/plain": [
       "array(['Abidjan', 'Yaoundé', 'Bafoussam', 'National Average', 'Douala',\n",
       "       'Bukavu', 'Bamenda', 'Goma', 'Kigali', 'Lubumbashi', 'Mombasa',\n",
       "       'Nakuru', 'Ruhengeri', 'Dar es Salaam', 'Lira', 'Kampala',\n",
       "       'Cap Haitien', 'Santo Domingo', 'Guatemala City', 'Ouanaminthe',\n",
       "       'Les Cayes', 'Jeremie', 'Jacmel', 'Hinche', 'Port-au-Prince',\n",
       "       'Guadalajara', 'Puebla', 'Mexico City', 'Xalapa', 'Panama City',\n",
       "       'San Salvador', 'Garoua', 'San Pedro Sula', 'Tegucigalpa',\n",
       "       'Managua (oriental)', 'Greater Buenos Aires', 'Aktau', 'Almaty',\n",
       "       'Kostanay', 'Nur-Sultan', 'Batken', 'Bishkek', 'Jalal-Abad',\n",
       "       'Naryn', 'Osh', 'Nouakchott', 'Selenge', 'Dornod', 'Bayan-Ulgii',\n",
       "       'Jalalabad', 'Herat', 'Kabul', 'Kandahar', 'Ulaanbaatar',\n",
       "       'Uvurkhangai', 'Potosi', 'Santiago', 'Bulawayo', 'Manicaland',\n",
       "       'Harare', 'Mash east', 'Mash central', 'Masvingo', 'Mash west',\n",
       "       'Lima', 'São Paulo', 'Mat north', 'Mat south', 'Midlands',\n",
       "       'Hhohho', 'Manzini', 'Lubombo', 'Minsk', 'National average',\n",
       "       'Shiselweni', 'Gaza Strip', 'West Bank', 'Tokyo', 'Osaka',\n",
       "       'Buchanan', 'Monrovia', 'Saclepea', 'Bo', 'Freetown', 'Kailahun',\n",
       "       'Koinadugu', 'Juba', 'Kenema', 'Nampula', 'Luanda', 'Bangkok',\n",
       "       'Asunción', 'Cotonou', 'São Vicente', 'Natitingou', 'Parakou',\n",
       "       'Amegnran', 'Anie', 'Cinkassé', 'Kara', 'Korbongou', 'Lomé',\n",
       "       'Santo Antão', 'Accra', 'Tamale', 'Techiman', 'Mzuzu',\n",
       "       'Cochabamba', 'La Paz', 'Oruro', 'Santa Cruz', 'Sucre', 'Tarija',\n",
       "       'Trinidad', 'Hadramout', 'Dhamar', 'New Delhi', 'Mumbai',\n",
       "       'Chennai', 'Hajjah', 'Hodeidah', 'Sanaa', 'Yangon', 'Ibadan',\n",
       "       'Kano', 'Kaura Namoda', 'Lagos', 'Maiduguri', 'Bujumbura', 'Ngozi',\n",
       "       'Gitega', \"N'Djamena\", 'Bol', 'Moussoro', 'Ambato', 'Mekele',\n",
       "       'Diredawa', 'Bahirdar', 'Guayaquil', 'Quito', 'Riobamba',\n",
       "       'Addis Ababa', 'Kumasi', 'Bolgatanga', 'Kisumu', 'Eldoret',\n",
       "       'Liwonde', 'Lilongwe', 'Nairobi', 'Zinder', 'Tillaberi', 'Niamey',\n",
       "       'Maradi', 'Dosso', 'Mzimba', 'Nsanje', 'Agadez', 'Arusha',\n",
       "       'Masindi', 'Kabale', 'Conakry', 'Medellín', 'Angonia', 'Chokwe',\n",
       "       'Gorongosa', 'Manica', 'Maputo', 'Maxixe', 'Milange', 'Montepuez',\n",
       "       'Ribaue', 'Giwa', 'South Cotabato', 'Belet Weyne', 'Baidoa',\n",
       "       'Hargeisa', 'Borama', 'Buale', 'Galkayo', 'Hudur', 'Kismayo',\n",
       "       'Marka', 'Mogadishu', 'Qorioley', 'Randfontein', 'Aweil', 'Bor',\n",
       "       'Gogrial', 'Rumbek', 'Torit', 'Wau', 'Yambio', 'Culiacán',\n",
       "       'Davao City', 'Cebu', 'Rosario', 'Mato Grosso', 'Distrito Federal',\n",
       "       'Paraná', 'Rio Grande do Sul', 'Portoviejo', 'Cuenca', 'Cartagena',\n",
       "       'Bogotá', 'Metro Manila', 'Katima', 'Gobabis', 'Keetmanshoop',\n",
       "       'Mariental', 'Oshakati', 'Otjiwarongo', 'Swakopmund', 'Windhoek',\n",
       "       'Ahmedabad', 'Bengaluru', 'Bhopal', 'Patna', 'Abeche', 'Moundou',\n",
       "       'Sarh', 'Kaolack', 'Fatick', 'Diourbel', 'Dakar', 'El Gedarif',\n",
       "       'Al-Fashir', 'Kolda', 'Louga', 'Matam', 'SaintLouis',\n",
       "       'Tambacounda', 'Thies', 'Zguinchor', 'Al-Damazin', 'El Obeid',\n",
       "       'Kadugli', 'Khartoum', 'Nyala', 'Port Sudan', 'Bobo Dioulasso',\n",
       "       'Dori', 'Dédougou', \"Fada N'gourma\", 'Kongoussi', 'Nouna',\n",
       "       'Ouagadougou', 'Tenkodogo', 'Bamako', 'Gao', 'Kayes', 'Mopti',\n",
       "       'Sikasso', 'Ségou', 'Timbuktu', 'Iloilo', 'Nueva Ecija', 'Khorugh',\n",
       "       'Khatlon', 'Dushanbe', 'Khujand', 'Kurgonteppa', 'Sughd', 'Kampot',\n",
       "       'Dhaka', 'Phnom Penh', 'Kampong Chhnang', 'Battambang',\n",
       "       'Banteay Meanchey', 'Multan', 'Karachi', 'Lahore', 'Quetta',\n",
       "       'Kathmandu', 'Bossaso', 'Lasanod', 'Colombo', 'Dongola', 'Dinsoor',\n",
       "       'Kampong Cham', 'Barranquilla', 'Buenos Aires', 'Peshawar',\n",
       "       'Bale Robe', 'Debre Marcos', 'Jimma', 'Shashemene'], dtype=object)"
      ]
     },
     "execution_count": 15,
     "metadata": {},
     "output_type": "execute_result"
    }
   ],
   "source": [
    "dom_clean_data['market'].unique()"
   ]
  },
  {
   "cell_type": "code",
   "execution_count": 16,
   "id": "a8ed8db0",
   "metadata": {},
   "outputs": [],
   "source": [
    "dom_clean_data=dom_clean_data[['month','country','price_type','market','price']]"
   ]
  },
  {
   "cell_type": "code",
   "execution_count": 17,
   "id": "86c81ce4",
   "metadata": {},
   "outputs": [
    {
     "data": {
      "text/html": [
       "<div>\n",
       "<style scoped>\n",
       "    .dataframe tbody tr th:only-of-type {\n",
       "        vertical-align: middle;\n",
       "    }\n",
       "\n",
       "    .dataframe tbody tr th {\n",
       "        vertical-align: top;\n",
       "    }\n",
       "\n",
       "    .dataframe thead th {\n",
       "        text-align: right;\n",
       "    }\n",
       "</style>\n",
       "<table border=\"1\" class=\"dataframe\">\n",
       "  <thead>\n",
       "    <tr style=\"text-align: right;\">\n",
       "      <th></th>\n",
       "      <th>month</th>\n",
       "      <th>country</th>\n",
       "      <th>price_type</th>\n",
       "      <th>market</th>\n",
       "      <th>price</th>\n",
       "    </tr>\n",
       "  </thead>\n",
       "  <tbody>\n",
       "    <tr>\n",
       "      <th>1</th>\n",
       "      <td>5/1/2020</td>\n",
       "      <td>Cote d'Ivoire</td>\n",
       "      <td>Retail</td>\n",
       "      <td>Abidjan</td>\n",
       "      <td>0.61</td>\n",
       "    </tr>\n",
       "    <tr>\n",
       "      <th>2</th>\n",
       "      <td>4/1/2020</td>\n",
       "      <td>Cote d'Ivoire</td>\n",
       "      <td>Retail</td>\n",
       "      <td>Abidjan</td>\n",
       "      <td>0.59</td>\n",
       "    </tr>\n",
       "    <tr>\n",
       "      <th>3</th>\n",
       "      <td>3/1/2020</td>\n",
       "      <td>Cote d'Ivoire</td>\n",
       "      <td>Retail</td>\n",
       "      <td>Abidjan</td>\n",
       "      <td>0.61</td>\n",
       "    </tr>\n",
       "    <tr>\n",
       "      <th>4</th>\n",
       "      <td>2/1/2020</td>\n",
       "      <td>Cote d'Ivoire</td>\n",
       "      <td>Retail</td>\n",
       "      <td>Abidjan</td>\n",
       "      <td>0.63</td>\n",
       "    </tr>\n",
       "    <tr>\n",
       "      <th>5</th>\n",
       "      <td>1/1/2020</td>\n",
       "      <td>Cote d'Ivoire</td>\n",
       "      <td>Retail</td>\n",
       "      <td>Abidjan</td>\n",
       "      <td>0.68</td>\n",
       "    </tr>\n",
       "  </tbody>\n",
       "</table>\n",
       "</div>"
      ],
      "text/plain": [
       "      month        country price_type   market  price\n",
       "1  5/1/2020  Cote d'Ivoire     Retail  Abidjan   0.61\n",
       "2  4/1/2020  Cote d'Ivoire     Retail  Abidjan   0.59\n",
       "3  3/1/2020  Cote d'Ivoire     Retail  Abidjan   0.61\n",
       "4  2/1/2020  Cote d'Ivoire     Retail  Abidjan   0.63\n",
       "5  1/1/2020  Cote d'Ivoire     Retail  Abidjan   0.68"
      ]
     },
     "execution_count": 17,
     "metadata": {},
     "output_type": "execute_result"
    }
   ],
   "source": [
    "dom_clean_data.head()"
   ]
  },
  {
   "cell_type": "code",
   "execution_count": 18,
   "id": "c76b66ed",
   "metadata": {},
   "outputs": [
    {
     "data": {
      "text/plain": [
       "(141772, 5)"
      ]
     },
     "execution_count": 18,
     "metadata": {},
     "output_type": "execute_result"
    }
   ],
   "source": [
    "dom_clean_data.shape"
   ]
  },
  {
   "cell_type": "code",
   "execution_count": 19,
   "id": "6126aca1",
   "metadata": {},
   "outputs": [
    {
     "data": {
      "text/plain": [
       "(25496, 5)"
      ]
     },
     "execution_count": 19,
     "metadata": {},
     "output_type": "execute_result"
    }
   ],
   "source": [
    "int_clean_data.shape"
   ]
  },
  {
   "cell_type": "code",
   "execution_count": 20,
   "id": "220d9be5",
   "metadata": {},
   "outputs": [],
   "source": [
    "int_clean_data=int_clean_data[['time','country','commodity','price']]"
   ]
  },
  {
   "cell_type": "code",
   "execution_count": 21,
   "id": "f5ad910a",
   "metadata": {},
   "outputs": [
    {
     "data": {
      "text/plain": [
       "array(['Australia', 'Bangladesh', 'Black Sea', 'Brazil',\n",
       "       'Brazil (Paranagua)', 'Canada (St Lawrence)', 'East Africa',\n",
       "       'Europe and Oceania', 'EU (France)', 'EU (UK)', 'Kazakhstan',\n",
       "       'FAO Tea Composite Price', 'ICE futures US', 'India',\n",
       "       'Mombasa Auction', 'New Zealand', 'Philippines', 'Pakistan',\n",
       "       'Russian Federation', 'Thailand', 'US', 'US (Kentucky)', 'Ukraine',\n",
       "       'Unspecified', 'Uruguay', 'Viet Nam', 'Argentina (Up River)',\n",
       "       'Central America', 'Thailand (Bangkok)', 'US (Gulf)'], dtype=object)"
      ]
     },
     "execution_count": 21,
     "metadata": {},
     "output_type": "execute_result"
    }
   ],
   "source": [
    "int_clean_data['country'].unique()"
   ]
  },
  {
   "cell_type": "code",
   "execution_count": 22,
   "id": "3ed8a6a8",
   "metadata": {},
   "outputs": [
    {
     "data": {
      "text/plain": [
       "array(['Beef', 'Barley (feed)', 'Wheat', 'Jute', 'Maize (feed)',\n",
       "       'Wheat (feed)', 'Wheat (milling)', 'Sisal', 'Butter',\n",
       "       'Cheddar Cheese', 'Whole Milk Powder', 'Skim Milk Powder', 'Tea',\n",
       "       'Sugar', 'Rice', 'Lamb', 'Coconut oil', 'Cassava Chips',\n",
       "       'Cassava Flour/Starch', 'Groundnuts', 'Soybean', 'Maize',\n",
       "       'Fish Meal', 'Fish oil', 'Groundnut oil', 'Rape oil', 'Rapeseed',\n",
       "       'Rapeseed meal', 'Palm oil', 'Palmkernel meal', 'Soybean meal',\n",
       "       'Soybean oil', 'Sunflower oil', 'Sunflowerseed',\n",
       "       'Bananas (US East Coast)', 'Bananas (US West Coast)', 'Sorghum'],\n",
       "      dtype=object)"
      ]
     },
     "execution_count": 22,
     "metadata": {},
     "output_type": "execute_result"
    }
   ],
   "source": [
    "int_clean_data['commodity'].unique()"
   ]
  },
  {
   "cell_type": "code",
   "execution_count": 23,
   "id": "eaff3072",
   "metadata": {},
   "outputs": [
    {
     "data": {
      "text/html": [
       "<div>\n",
       "<style scoped>\n",
       "    .dataframe tbody tr th:only-of-type {\n",
       "        vertical-align: middle;\n",
       "    }\n",
       "\n",
       "    .dataframe tbody tr th {\n",
       "        vertical-align: top;\n",
       "    }\n",
       "\n",
       "    .dataframe thead th {\n",
       "        text-align: right;\n",
       "    }\n",
       "</style>\n",
       "<table border=\"1\" class=\"dataframe\">\n",
       "  <thead>\n",
       "    <tr style=\"text-align: right;\">\n",
       "      <th></th>\n",
       "      <th>time</th>\n",
       "      <th>country</th>\n",
       "      <th>commodity</th>\n",
       "      <th>price</th>\n",
       "    </tr>\n",
       "  </thead>\n",
       "  <tbody>\n",
       "    <tr>\n",
       "      <th>4914</th>\n",
       "      <td>2020-06-01</td>\n",
       "      <td>Unspecified</td>\n",
       "      <td>Rape oil</td>\n",
       "      <td>NaN</td>\n",
       "    </tr>\n",
       "    <tr>\n",
       "      <th>4915</th>\n",
       "      <td>2020-05-01</td>\n",
       "      <td>Unspecified</td>\n",
       "      <td>Rape oil</td>\n",
       "      <td>NaN</td>\n",
       "    </tr>\n",
       "    <tr>\n",
       "      <th>4916</th>\n",
       "      <td>2020-04-01</td>\n",
       "      <td>Unspecified</td>\n",
       "      <td>Rape oil</td>\n",
       "      <td>0.77</td>\n",
       "    </tr>\n",
       "    <tr>\n",
       "      <th>4917</th>\n",
       "      <td>2020-03-01</td>\n",
       "      <td>Unspecified</td>\n",
       "      <td>Rape oil</td>\n",
       "      <td>0.8</td>\n",
       "    </tr>\n",
       "    <tr>\n",
       "      <th>4918</th>\n",
       "      <td>2020-02-01</td>\n",
       "      <td>Unspecified</td>\n",
       "      <td>Rape oil</td>\n",
       "      <td>0.9</td>\n",
       "    </tr>\n",
       "    <tr>\n",
       "      <th>...</th>\n",
       "      <td>...</td>\n",
       "      <td>...</td>\n",
       "      <td>...</td>\n",
       "      <td>...</td>\n",
       "    </tr>\n",
       "    <tr>\n",
       "      <th>5035</th>\n",
       "      <td>2010-05-01</td>\n",
       "      <td>Unspecified</td>\n",
       "      <td>Rape oil</td>\n",
       "      <td>0.86</td>\n",
       "    </tr>\n",
       "    <tr>\n",
       "      <th>5036</th>\n",
       "      <td>2010-04-01</td>\n",
       "      <td>Unspecified</td>\n",
       "      <td>Rape oil</td>\n",
       "      <td>0.91</td>\n",
       "    </tr>\n",
       "    <tr>\n",
       "      <th>5037</th>\n",
       "      <td>2010-03-01</td>\n",
       "      <td>Unspecified</td>\n",
       "      <td>Rape oil</td>\n",
       "      <td>0.9</td>\n",
       "    </tr>\n",
       "    <tr>\n",
       "      <th>5038</th>\n",
       "      <td>2010-02-01</td>\n",
       "      <td>Unspecified</td>\n",
       "      <td>Rape oil</td>\n",
       "      <td>0.89</td>\n",
       "    </tr>\n",
       "    <tr>\n",
       "      <th>5039</th>\n",
       "      <td>2010-01-01</td>\n",
       "      <td>Unspecified</td>\n",
       "      <td>Rape oil</td>\n",
       "      <td>0.92</td>\n",
       "    </tr>\n",
       "  </tbody>\n",
       "</table>\n",
       "<p>126 rows × 4 columns</p>\n",
       "</div>"
      ],
      "text/plain": [
       "            time      country commodity price\n",
       "4914  2020-06-01  Unspecified  Rape oil   NaN\n",
       "4915  2020-05-01  Unspecified  Rape oil   NaN\n",
       "4916  2020-04-01  Unspecified  Rape oil  0.77\n",
       "4917  2020-03-01  Unspecified  Rape oil   0.8\n",
       "4918  2020-02-01  Unspecified  Rape oil   0.9\n",
       "...          ...          ...       ...   ...\n",
       "5035  2010-05-01  Unspecified  Rape oil  0.86\n",
       "5036  2010-04-01  Unspecified  Rape oil  0.91\n",
       "5037  2010-03-01  Unspecified  Rape oil   0.9\n",
       "5038  2010-02-01  Unspecified  Rape oil  0.89\n",
       "5039  2010-01-01  Unspecified  Rape oil  0.92\n",
       "\n",
       "[126 rows x 4 columns]"
      ]
     },
     "execution_count": 23,
     "metadata": {},
     "output_type": "execute_result"
    }
   ],
   "source": [
    "int_clean_data[int_clean_data['commodity']=='Rape oil']"
   ]
  },
  {
   "cell_type": "code",
   "execution_count": 24,
   "id": "b41c6f48",
   "metadata": {},
   "outputs": [
    {
     "data": {
      "text/html": [
       "<div>\n",
       "<style scoped>\n",
       "    .dataframe tbody tr th:only-of-type {\n",
       "        vertical-align: middle;\n",
       "    }\n",
       "\n",
       "    .dataframe tbody tr th {\n",
       "        vertical-align: top;\n",
       "    }\n",
       "\n",
       "    .dataframe thead th {\n",
       "        text-align: right;\n",
       "    }\n",
       "</style>\n",
       "<table border=\"1\" class=\"dataframe\">\n",
       "  <thead>\n",
       "    <tr style=\"text-align: right;\">\n",
       "      <th></th>\n",
       "      <th>time</th>\n",
       "      <th>country</th>\n",
       "      <th>commodity</th>\n",
       "      <th>price</th>\n",
       "    </tr>\n",
       "  </thead>\n",
       "  <tbody>\n",
       "    <tr>\n",
       "      <th>4536</th>\n",
       "      <td>2020-06-01</td>\n",
       "      <td>Unspecified</td>\n",
       "      <td>Fish Meal</td>\n",
       "      <td>NaN</td>\n",
       "    </tr>\n",
       "    <tr>\n",
       "      <th>4537</th>\n",
       "      <td>2020-05-01</td>\n",
       "      <td>Unspecified</td>\n",
       "      <td>Fish Meal</td>\n",
       "      <td>NaN</td>\n",
       "    </tr>\n",
       "    <tr>\n",
       "      <th>4538</th>\n",
       "      <td>2020-04-01</td>\n",
       "      <td>Unspecified</td>\n",
       "      <td>Fish Meal</td>\n",
       "      <td>1.39</td>\n",
       "    </tr>\n",
       "    <tr>\n",
       "      <th>4539</th>\n",
       "      <td>2020-03-01</td>\n",
       "      <td>Unspecified</td>\n",
       "      <td>Fish Meal</td>\n",
       "      <td>1.41</td>\n",
       "    </tr>\n",
       "    <tr>\n",
       "      <th>4540</th>\n",
       "      <td>2020-02-01</td>\n",
       "      <td>Unspecified</td>\n",
       "      <td>Fish Meal</td>\n",
       "      <td>1.36</td>\n",
       "    </tr>\n",
       "    <tr>\n",
       "      <th>...</th>\n",
       "      <td>...</td>\n",
       "      <td>...</td>\n",
       "      <td>...</td>\n",
       "      <td>...</td>\n",
       "    </tr>\n",
       "    <tr>\n",
       "      <th>6047</th>\n",
       "      <td>2010-05-01</td>\n",
       "      <td>Unspecified</td>\n",
       "      <td>Sunflowerseed</td>\n",
       "      <td>0.49</td>\n",
       "    </tr>\n",
       "    <tr>\n",
       "      <th>6048</th>\n",
       "      <td>2010-04-01</td>\n",
       "      <td>Unspecified</td>\n",
       "      <td>Sunflowerseed</td>\n",
       "      <td>0.48</td>\n",
       "    </tr>\n",
       "    <tr>\n",
       "      <th>6049</th>\n",
       "      <td>2010-03-01</td>\n",
       "      <td>Unspecified</td>\n",
       "      <td>Sunflowerseed</td>\n",
       "      <td>0.46</td>\n",
       "    </tr>\n",
       "    <tr>\n",
       "      <th>6050</th>\n",
       "      <td>2010-02-01</td>\n",
       "      <td>Unspecified</td>\n",
       "      <td>Sunflowerseed</td>\n",
       "      <td>0.44</td>\n",
       "    </tr>\n",
       "    <tr>\n",
       "      <th>6051</th>\n",
       "      <td>2010-01-01</td>\n",
       "      <td>Unspecified</td>\n",
       "      <td>Sunflowerseed</td>\n",
       "      <td>0.43</td>\n",
       "    </tr>\n",
       "  </tbody>\n",
       "</table>\n",
       "<p>1516 rows × 4 columns</p>\n",
       "</div>"
      ],
      "text/plain": [
       "            time      country      commodity price\n",
       "4536  2020-06-01  Unspecified      Fish Meal   NaN\n",
       "4537  2020-05-01  Unspecified      Fish Meal   NaN\n",
       "4538  2020-04-01  Unspecified      Fish Meal  1.39\n",
       "4539  2020-03-01  Unspecified      Fish Meal  1.41\n",
       "4540  2020-02-01  Unspecified      Fish Meal  1.36\n",
       "...          ...          ...            ...   ...\n",
       "6047  2010-05-01  Unspecified  Sunflowerseed  0.49\n",
       "6048  2010-04-01  Unspecified  Sunflowerseed  0.48\n",
       "6049  2010-03-01  Unspecified  Sunflowerseed  0.46\n",
       "6050  2010-02-01  Unspecified  Sunflowerseed  0.44\n",
       "6051  2010-01-01  Unspecified  Sunflowerseed  0.43\n",
       "\n",
       "[1516 rows x 4 columns]"
      ]
     },
     "execution_count": 24,
     "metadata": {},
     "output_type": "execute_result"
    }
   ],
   "source": [
    "int_clean_data[int_clean_data['country']=='Unspecified']"
   ]
  },
  {
   "cell_type": "code",
   "execution_count": 25,
   "id": "951b589f",
   "metadata": {},
   "outputs": [],
   "source": [
    "\n",
    "int_clean_data_cleaned = int_clean_data[int_clean_data['country']!='Unspecified']"
   ]
  },
  {
   "cell_type": "code",
   "execution_count": 26,
   "id": "7e6e21d1",
   "metadata": {},
   "outputs": [
    {
     "data": {
      "text/plain": [
       "array(['Australia', 'Bangladesh', 'Black Sea', 'Brazil',\n",
       "       'Brazil (Paranagua)', 'Canada (St Lawrence)', 'East Africa',\n",
       "       'Europe and Oceania', 'EU (France)', 'EU (UK)', 'Kazakhstan',\n",
       "       'FAO Tea Composite Price', 'ICE futures US', 'India',\n",
       "       'Mombasa Auction', 'New Zealand', 'Philippines', 'Pakistan',\n",
       "       'Russian Federation', 'Thailand', 'US', 'US (Kentucky)', 'Ukraine',\n",
       "       'Uruguay', 'Viet Nam', 'Argentina (Up River)', 'Central America',\n",
       "       'Thailand (Bangkok)', 'US (Gulf)'], dtype=object)"
      ]
     },
     "execution_count": 26,
     "metadata": {},
     "output_type": "execute_result"
    }
   ],
   "source": [
    "int_clean_data_cleaned['country'].unique()"
   ]
  },
  {
   "cell_type": "code",
   "execution_count": 27,
   "id": "f0bd2c60",
   "metadata": {},
   "outputs": [
    {
     "data": {
      "text/plain": [
       "(126, 4)"
      ]
     },
     "execution_count": 27,
     "metadata": {},
     "output_type": "execute_result"
    }
   ],
   "source": [
    "int_clean_data_cleaned[int_clean_data_cleaned['country']=='ICE futures US'].shape"
   ]
  },
  {
   "cell_type": "code",
   "execution_count": 28,
   "id": "28ef5f61",
   "metadata": {},
   "outputs": [
    {
     "data": {
      "text/plain": [
       "(126, 4)"
      ]
     },
     "execution_count": 28,
     "metadata": {},
     "output_type": "execute_result"
    }
   ],
   "source": [
    "int_clean_data_cleaned[int_clean_data_cleaned['country']=='FAO Tea Composite Price'].shape"
   ]
  },
  {
   "cell_type": "code",
   "execution_count": 29,
   "id": "1e88ba77",
   "metadata": {},
   "outputs": [],
   "source": [
    "int_clean_data_cleaned = int_clean_data_cleaned[int_clean_data_cleaned['country']!='ICE futures US']\n",
    "int_clean_data_cleaned = int_clean_data_cleaned[int_clean_data_cleaned['country']!='FAO Tea Composite Price']"
   ]
  },
  {
   "cell_type": "code",
   "execution_count": 30,
   "id": "a356df32",
   "metadata": {},
   "outputs": [
    {
     "data": {
      "text/plain": [
       "array(['Australia', 'Bangladesh', 'Black Sea', 'Brazil',\n",
       "       'Brazil (Paranagua)', 'Canada (St Lawrence)', 'East Africa',\n",
       "       'Europe and Oceania', 'EU (France)', 'EU (UK)', 'Kazakhstan',\n",
       "       'India', 'Mombasa Auction', 'New Zealand', 'Philippines',\n",
       "       'Pakistan', 'Russian Federation', 'Thailand', 'US',\n",
       "       'US (Kentucky)', 'Ukraine', 'Uruguay', 'Viet Nam',\n",
       "       'Argentina (Up River)', 'Central America', 'Thailand (Bangkok)',\n",
       "       'US (Gulf)'], dtype=object)"
      ]
     },
     "execution_count": 30,
     "metadata": {},
     "output_type": "execute_result"
    }
   ],
   "source": [
    "int_clean_data_cleaned['country'].unique()"
   ]
  },
  {
   "cell_type": "code",
   "execution_count": 31,
   "id": "567b4321",
   "metadata": {},
   "outputs": [],
   "source": [
    "oil_name_change={'Rape oil':'Rape Seed Oil'}\n",
    "\n",
    "\n",
    "int_clean_data_cleaned['commodity'] = int_clean_data_cleaned['commodity'].replace(oil_name_change)\n"
   ]
  },
  {
   "cell_type": "code",
   "execution_count": 32,
   "id": "090a8dc3",
   "metadata": {},
   "outputs": [
    {
     "data": {
      "text/plain": [
       "array(['Beef', 'Barley (feed)', 'Wheat', 'Jute', 'Maize (feed)',\n",
       "       'Wheat (feed)', 'Wheat (milling)', 'Sisal', 'Butter',\n",
       "       'Cheddar Cheese', 'Whole Milk Powder', 'Skim Milk Powder', 'Rice',\n",
       "       'Tea', 'Lamb', 'Coconut oil', 'Cassava Chips',\n",
       "       'Cassava Flour/Starch', 'Groundnuts', 'Soybean', 'Maize',\n",
       "       'Bananas (US East Coast)', 'Bananas (US West Coast)', 'Sorghum'],\n",
       "      dtype=object)"
      ]
     },
     "execution_count": 32,
     "metadata": {},
     "output_type": "execute_result"
    }
   ],
   "source": [
    "int_clean_data_cleaned['commodity'].unique()"
   ]
  },
  {
   "cell_type": "code",
   "execution_count": 33,
   "id": "3b4c8bcb",
   "metadata": {},
   "outputs": [
    {
     "data": {
      "text/html": [
       "<div>\n",
       "<style scoped>\n",
       "    .dataframe tbody tr th:only-of-type {\n",
       "        vertical-align: middle;\n",
       "    }\n",
       "\n",
       "    .dataframe tbody tr th {\n",
       "        vertical-align: top;\n",
       "    }\n",
       "\n",
       "    .dataframe thead th {\n",
       "        text-align: right;\n",
       "    }\n",
       "</style>\n",
       "<table border=\"1\" class=\"dataframe\">\n",
       "  <thead>\n",
       "    <tr style=\"text-align: right;\">\n",
       "      <th></th>\n",
       "      <th>time</th>\n",
       "      <th>country</th>\n",
       "      <th>commodity</th>\n",
       "      <th>price</th>\n",
       "    </tr>\n",
       "  </thead>\n",
       "  <tbody>\n",
       "    <tr>\n",
       "      <th>0</th>\n",
       "      <td>2020-06-01</td>\n",
       "      <td>Australia</td>\n",
       "      <td>Beef</td>\n",
       "      <td>4.97</td>\n",
       "    </tr>\n",
       "    <tr>\n",
       "      <th>1</th>\n",
       "      <td>2020-05-01</td>\n",
       "      <td>Australia</td>\n",
       "      <td>Beef</td>\n",
       "      <td>5.07</td>\n",
       "    </tr>\n",
       "    <tr>\n",
       "      <th>2</th>\n",
       "      <td>2020-04-01</td>\n",
       "      <td>Australia</td>\n",
       "      <td>Beef</td>\n",
       "      <td>4.46</td>\n",
       "    </tr>\n",
       "    <tr>\n",
       "      <th>3</th>\n",
       "      <td>2020-03-01</td>\n",
       "      <td>Australia</td>\n",
       "      <td>Beef</td>\n",
       "      <td>4.39</td>\n",
       "    </tr>\n",
       "    <tr>\n",
       "      <th>4</th>\n",
       "      <td>2020-02-01</td>\n",
       "      <td>Australia</td>\n",
       "      <td>Beef</td>\n",
       "      <td>4.55</td>\n",
       "    </tr>\n",
       "  </tbody>\n",
       "</table>\n",
       "</div>"
      ],
      "text/plain": [
       "         time    country commodity price\n",
       "0  2020-06-01  Australia      Beef  4.97\n",
       "1  2020-05-01  Australia      Beef  5.07\n",
       "2  2020-04-01  Australia      Beef  4.46\n",
       "3  2020-03-01  Australia      Beef  4.39\n",
       "4  2020-02-01  Australia      Beef  4.55"
      ]
     },
     "execution_count": 33,
     "metadata": {},
     "output_type": "execute_result"
    }
   ],
   "source": [
    "int_clean_data_cleaned.head()"
   ]
  },
  {
   "cell_type": "code",
   "execution_count": 34,
   "id": "02d98763",
   "metadata": {},
   "outputs": [
    {
     "data": {
      "text/html": [
       "<div>\n",
       "<style scoped>\n",
       "    .dataframe tbody tr th:only-of-type {\n",
       "        vertical-align: middle;\n",
       "    }\n",
       "\n",
       "    .dataframe tbody tr th {\n",
       "        vertical-align: top;\n",
       "    }\n",
       "\n",
       "    .dataframe thead th {\n",
       "        text-align: right;\n",
       "    }\n",
       "</style>\n",
       "<table border=\"1\" class=\"dataframe\">\n",
       "  <thead>\n",
       "    <tr style=\"text-align: right;\">\n",
       "      <th></th>\n",
       "      <th>Unnamed: 0</th>\n",
       "      <th>country</th>\n",
       "      <th>price_type</th>\n",
       "      <th>market</th>\n",
       "      <th>commodity</th>\n",
       "      <th>percent</th>\n",
       "      <th>post_covid</th>\n",
       "      <th>yearly</th>\n",
       "    </tr>\n",
       "  </thead>\n",
       "  <tbody>\n",
       "    <tr>\n",
       "      <th>0</th>\n",
       "      <td>0</td>\n",
       "      <td>Cote d'Ivoire</td>\n",
       "      <td>Retail</td>\n",
       "      <td>Abidjan</td>\n",
       "      <td>AttiÃ©kÃ©</td>\n",
       "      <td>NaN</td>\n",
       "      <td>-0.061538</td>\n",
       "      <td>-0.031746</td>\n",
       "    </tr>\n",
       "    <tr>\n",
       "      <th>1</th>\n",
       "      <td>1</td>\n",
       "      <td>Cameroon</td>\n",
       "      <td>Retail</td>\n",
       "      <td>YaundÃ©</td>\n",
       "      <td>Bananas (plantains)</td>\n",
       "      <td>NaN</td>\n",
       "      <td>0.000000</td>\n",
       "      <td>0.000000</td>\n",
       "    </tr>\n",
       "    <tr>\n",
       "      <th>2</th>\n",
       "      <td>2</td>\n",
       "      <td>Cameroon</td>\n",
       "      <td>Retail</td>\n",
       "      <td>Bafoussam</td>\n",
       "      <td>Bananas (plantains)</td>\n",
       "      <td>NaN</td>\n",
       "      <td>-0.305556</td>\n",
       "      <td>0.041667</td>\n",
       "    </tr>\n",
       "    <tr>\n",
       "      <th>3</th>\n",
       "      <td>3</td>\n",
       "      <td>Morocco</td>\n",
       "      <td>Retail</td>\n",
       "      <td>National Average</td>\n",
       "      <td>Barley (imported)</td>\n",
       "      <td>NaN</td>\n",
       "      <td>-0.034483</td>\n",
       "      <td>-0.034483</td>\n",
       "    </tr>\n",
       "    <tr>\n",
       "      <th>4</th>\n",
       "      <td>4</td>\n",
       "      <td>Cote d'Ivoire</td>\n",
       "      <td>Retail</td>\n",
       "      <td>Abidjan</td>\n",
       "      <td>Banana (plantains)</td>\n",
       "      <td>NaN</td>\n",
       "      <td>0.769231</td>\n",
       "      <td>0.232143</td>\n",
       "    </tr>\n",
       "  </tbody>\n",
       "</table>\n",
       "</div>"
      ],
      "text/plain": [
       "   Unnamed: 0        country price_type            market  \\\n",
       "0           0  Cote d'Ivoire     Retail           Abidjan   \n",
       "1           1       Cameroon     Retail           YaundÃ©   \n",
       "2           2       Cameroon     Retail         Bafoussam   \n",
       "3           3        Morocco     Retail  National Average   \n",
       "4           4  Cote d'Ivoire     Retail           Abidjan   \n",
       "\n",
       "             commodity  percent  post_covid    yearly  \n",
       "0            AttiÃ©kÃ©      NaN   -0.061538 -0.031746  \n",
       "1  Bananas (plantains)      NaN    0.000000  0.000000  \n",
       "2  Bananas (plantains)      NaN   -0.305556  0.041667  \n",
       "3    Barley (imported)      NaN   -0.034483 -0.034483  \n",
       "4   Banana (plantains)      NaN    0.769231  0.232143  "
      ]
     },
     "execution_count": 34,
     "metadata": {},
     "output_type": "execute_result"
    }
   ],
   "source": [
    "dom_change_data.head()\n",
    "#dom_change_data[\"commodity\"].unique()"
   ]
  },
  {
   "cell_type": "code",
   "execution_count": 35,
   "id": "bc2cda66",
   "metadata": {},
   "outputs": [],
   "source": [
    "value_fix={'AttiÃ©kÃ©':'Attieke'}\n",
    "dom_change_data['commodity'] = dom_change_data['commodity'].replace(value_fix)"
   ]
  },
  {
   "cell_type": "code",
   "execution_count": 36,
   "id": "e899b626",
   "metadata": {},
   "outputs": [
    {
     "data": {
      "text/plain": [
       "array(['Abidjan', 'YaundÃ©', 'Bafoussam', 'National Average', 'Douala',\n",
       "       'Bukavu', 'Bamenda', 'Goma', 'Kigali', 'Lubumbashi', 'Ruhengeri',\n",
       "       'Dar es Salaam', 'Lira', 'Kampala', 'Cap Haitien', 'Santo Domingo',\n",
       "       'Guatemala City', 'Ouanaminthe', 'Les Cayes', 'Jeremie', 'Jacmel',\n",
       "       'Hinche', 'Port-au-Prince', 'Guadalajara', 'Puebla', 'Mexico City',\n",
       "       'Xalapa', 'Panama City', 'San Salvador', 'Garoua',\n",
       "       'San Pedro Sula', 'Tegucigalpa', 'Managua (oriental)',\n",
       "       'Greater Buenos Aires', 'Aktau', 'Almaty', 'Kostanay',\n",
       "       'Nur-Sultan', 'Batken', 'Bishkek', 'Jalal-Abad', 'Naryn', 'Osh',\n",
       "       'Nouakchott', 'Selenge', 'Dornod', 'Bayan-Ulgii', 'Jalalabad',\n",
       "       'Herat', 'Kabul', 'Kandahar', 'Ulaanbaatar', 'Uvurkhangai',\n",
       "       'Potosi', 'Santiago', 'Bulawayo', 'Manicaland', 'Harare',\n",
       "       'Mash east', 'Mash central', 'Masvingo', 'Mash west', 'Lima',\n",
       "       'SÃ£o Paulo', 'Mat north', 'Mat south', 'Midlands', 'Hhohho',\n",
       "       'Manzini', 'Lubombo', 'Minsk', 'National average', 'Shiselweni',\n",
       "       'Gaza Strip', 'West Bank', 'Tokyo', 'Osaka', 'Juba', 'Nampula',\n",
       "       'Luanda', 'Bangkok', 'AsunciÃ³n', 'Cotonou', 'S.Vincente',\n",
       "       'Natitingou', 'Parakou', 'Amegnran', 'Anie', 'CinkassÃ©', 'Kara',\n",
       "       'Korbongou', 'LomÃ©', 'S.AntÃ£o', 'Accra', 'Tamale', 'Techiman',\n",
       "       'Mzuzu', 'Cochabamba', 'La Paz', 'Oruro', 'Santa Cruz', 'Sucre',\n",
       "       'Tarija', 'Trinidad', 'Hadramout', 'Dhamar', 'New Delhi', 'Mumbai',\n",
       "       'Chennai', 'Hajjah', 'Hodeidah', 'Yangon', 'Ibadan', 'Kano',\n",
       "       'Kaura Namoda', 'Lagos', 'Maiduguri', 'Bujumbura', 'Ngozi',\n",
       "       'Gitega', \"N'Djamena\", 'Bol', 'Moussoro', 'Ambato', 'Mekele',\n",
       "       'Diredawa', 'Bahirdar', 'Guayaquil', 'Quito', 'Riobamba',\n",
       "       'Addis Ababa', 'Kumasi', 'Bolgatanga', 'Kisumu', 'Eldoret',\n",
       "       'Liwonde', 'Lilongwe', 'Nakuru', 'Nairobi', 'Mombasa', 'Zinder',\n",
       "       'Tillaberi', 'Niamey', 'Maradi', 'Dosso', 'Mzimba', 'Nsanje',\n",
       "       'Agadez', 'Arusha', 'Masindi', 'Kabale', 'Conakry', 'MedellÃ\\xadn',\n",
       "       'Angonia', 'Chokwe', 'Gorongosa', 'Manica', 'Maputo', 'Montepuez',\n",
       "       'Ribaue', 'Giwa', 'South Cotabato', 'Belet Weyne', 'Baidoa',\n",
       "       'Hargeisa', 'Borama', 'Buale', 'Galkayo', 'Hudur', 'Kismayo',\n",
       "       'Marka', 'Mogadishu', 'Qorioley', 'Randfontein', 'Aweil', 'Bor',\n",
       "       'Gogrial', 'Rumbek', 'Torit', 'Wau', 'Yambio', 'CuliacÃ¡n',\n",
       "       'Davao City', 'Cebu', 'Rosario', 'Mato Grosso', 'Federal District',\n",
       "       'ParanÃ¡', 'Rio Grande do Sul', 'Portoviejo', 'Cuenca',\n",
       "       'Cartagena', 'BogotÃ¡', 'MetroManila', 'Katima', 'Gobabis',\n",
       "       'Keetmanshoop', 'Mariental', 'Oshakati', 'Otjiwarongo',\n",
       "       'Swakopmund', 'Windhoek', 'Ahmedabad', 'Bengaluru', 'Bhopal',\n",
       "       'Patna', 'Abeche', 'Moundou', 'Sarh', 'Kaolack', 'Fatick',\n",
       "       'Diourbel', 'Dakar', 'El Gedarif', 'Al-Fashir', 'Kolda', 'Louga',\n",
       "       'Matam', 'SaintLouis', 'Tambacounda', 'Thies', 'Zguinchor',\n",
       "       'Al-Damazin', 'El Obeid', 'Kadugli', 'Khartoum', 'Nyala',\n",
       "       'Port Sudan', 'Bobo Dioulasso', 'Dori', 'DÃ©dougou',\n",
       "       \"Fada N'gourma\", 'Kongoussi', 'Nouna', 'Ouagadougou', 'Tenkodogo',\n",
       "       'Bamako', 'Gao', 'Kayes', 'Mopti', 'Sikasso', 'SÃ©gou',\n",
       "       'Tombouctou', 'Bo', 'Freetown', 'Kailahun', 'Kenema', 'Koinadugu',\n",
       "       'Iloilo', 'Nueva Ecija', 'Khorugh', 'Khatlon', 'Dushanbe',\n",
       "       'Khujand', 'Kurgonteppa', 'Sughd', 'Kampot', 'Maxixe', 'Dhaka',\n",
       "       'Phnom Penh', 'Kampong Chhnang', 'Battambang', 'Banteay Meanchey',\n",
       "       'Multan', 'Karachi', 'Lahore', 'Quetta', 'Kathmandu', 'Saclepea',\n",
       "       'Monrovia', 'Buchanan', 'Bossaso', 'Lasanod', 'Colombo', 'Dongola',\n",
       "       'Dinsoor', 'Kampong Cham', 'Barranquilla', 'Buenos Aires',\n",
       "       'Peshawar', 'Bale Robe', 'Debre Marcos', 'Jimma', 'Shashemene'],\n",
       "      dtype=object)"
      ]
     },
     "execution_count": 36,
     "metadata": {},
     "output_type": "execute_result"
    }
   ],
   "source": [
    "dom_change_data[\"market\"].unique()"
   ]
  },
  {
   "cell_type": "code",
   "execution_count": 37,
   "id": "71f50d4d",
   "metadata": {},
   "outputs": [],
   "source": [
    "dom_change_data['market'] = dom_change_data['market'].replace(cities_dict)"
   ]
  },
  {
   "cell_type": "code",
   "execution_count": 38,
   "id": "e6aa5a22",
   "metadata": {},
   "outputs": [
    {
     "data": {
      "text/plain": [
       "array(['Abidjan', 'Yaoundé', 'Bafoussam', 'National Average', 'Douala',\n",
       "       'Bukavu', 'Bamenda', 'Goma', 'Kigali', 'Lubumbashi', 'Ruhengeri',\n",
       "       'Dar es Salaam', 'Lira', 'Kampala', 'Cap Haitien', 'Santo Domingo',\n",
       "       'Guatemala City', 'Ouanaminthe', 'Les Cayes', 'Jeremie', 'Jacmel',\n",
       "       'Hinche', 'Port-au-Prince', 'Guadalajara', 'Puebla', 'Mexico City',\n",
       "       'Xalapa', 'Panama City', 'San Salvador', 'Garoua',\n",
       "       'San Pedro Sula', 'Tegucigalpa', 'Managua (oriental)',\n",
       "       'Greater Buenos Aires', 'Aktau', 'Almaty', 'Kostanay',\n",
       "       'Nur-Sultan', 'Batken', 'Bishkek', 'Jalal-Abad', 'Naryn', 'Osh',\n",
       "       'Nouakchott', 'Selenge', 'Dornod', 'Bayan-Ulgii', 'Jalalabad',\n",
       "       'Herat', 'Kabul', 'Kandahar', 'Ulaanbaatar', 'Uvurkhangai',\n",
       "       'Potosi', 'Santiago', 'Bulawayo', 'Manicaland', 'Harare',\n",
       "       'Mash east', 'Mash central', 'Masvingo', 'Mash west', 'Lima',\n",
       "       'São Paulo', 'Mat north', 'Mat south', 'Midlands', 'Hhohho',\n",
       "       'Manzini', 'Lubombo', 'Minsk', 'National average', 'Shiselweni',\n",
       "       'Gaza Strip', 'West Bank', 'Tokyo', 'Osaka', 'Juba', 'Nampula',\n",
       "       'Luanda', 'Bangkok', 'Asunción', 'Cotonou', 'São Vicente',\n",
       "       'Natitingou', 'Parakou', 'Amegnran', 'Anie', 'Cinkassé', 'Kara',\n",
       "       'Korbongou', 'Lomé', 'Santo Antão', 'Accra', 'Tamale', 'Techiman',\n",
       "       'Mzuzu', 'Cochabamba', 'La Paz', 'Oruro', 'Santa Cruz', 'Sucre',\n",
       "       'Tarija', 'Trinidad', 'Hadramout', 'Dhamar', 'New Delhi', 'Mumbai',\n",
       "       'Chennai', 'Hajjah', 'Hodeidah', 'Yangon', 'Ibadan', 'Kano',\n",
       "       'Kaura Namoda', 'Lagos', 'Maiduguri', 'Bujumbura', 'Ngozi',\n",
       "       'Gitega', \"N'Djamena\", 'Bol', 'Moussoro', 'Ambato', 'Mekele',\n",
       "       'Diredawa', 'Bahirdar', 'Guayaquil', 'Quito', 'Riobamba',\n",
       "       'Addis Ababa', 'Kumasi', 'Bolgatanga', 'Kisumu', 'Eldoret',\n",
       "       'Liwonde', 'Lilongwe', 'Nakuru', 'Nairobi', 'Mombasa', 'Zinder',\n",
       "       'Tillaberi', 'Niamey', 'Maradi', 'Dosso', 'Mzimba', 'Nsanje',\n",
       "       'Agadez', 'Arusha', 'Masindi', 'Kabale', 'Conakry', 'Medellín',\n",
       "       'Angonia', 'Chokwe', 'Gorongosa', 'Manica', 'Maputo', 'Montepuez',\n",
       "       'Ribaue', 'Giwa', 'South Cotabato', 'Belet Weyne', 'Baidoa',\n",
       "       'Hargeisa', 'Borama', 'Buale', 'Galkayo', 'Hudur', 'Kismayo',\n",
       "       'Marka', 'Mogadishu', 'Qorioley', 'Randfontein', 'Aweil', 'Bor',\n",
       "       'Gogrial', 'Rumbek', 'Torit', 'Wau', 'Yambio', 'Culiacán',\n",
       "       'Davao City', 'Cebu', 'Rosario', 'Mato Grosso', 'Distrito Federal',\n",
       "       'Paraná', 'Rio Grande do Sul', 'Portoviejo', 'Cuenca', 'Cartagena',\n",
       "       'Bogotá', 'Metro Manila', 'Katima', 'Gobabis', 'Keetmanshoop',\n",
       "       'Mariental', 'Oshakati', 'Otjiwarongo', 'Swakopmund', 'Windhoek',\n",
       "       'Ahmedabad', 'Bengaluru', 'Bhopal', 'Patna', 'Abeche', 'Moundou',\n",
       "       'Sarh', 'Kaolack', 'Fatick', 'Diourbel', 'Dakar', 'El Gedarif',\n",
       "       'Al-Fashir', 'Kolda', 'Louga', 'Matam', 'SaintLouis',\n",
       "       'Tambacounda', 'Thies', 'Zguinchor', 'Al-Damazin', 'El Obeid',\n",
       "       'Kadugli', 'Khartoum', 'Nyala', 'Port Sudan', 'Bobo Dioulasso',\n",
       "       'Dori', 'Dédougou', \"Fada N'gourma\", 'Kongoussi', 'Nouna',\n",
       "       'Ouagadougou', 'Tenkodogo', 'Bamako', 'Gao', 'Kayes', 'Mopti',\n",
       "       'Sikasso', 'Ségou', 'Timbuktu', 'Bo', 'Freetown', 'Kailahun',\n",
       "       'Kenema', 'Koinadugu', 'Iloilo', 'Nueva Ecija', 'Khorugh',\n",
       "       'Khatlon', 'Dushanbe', 'Khujand', 'Kurgonteppa', 'Sughd', 'Kampot',\n",
       "       'Maxixe', 'Dhaka', 'Phnom Penh', 'Kampong Chhnang', 'Battambang',\n",
       "       'Banteay Meanchey', 'Multan', 'Karachi', 'Lahore', 'Quetta',\n",
       "       'Kathmandu', 'Saclepea', 'Monrovia', 'Buchanan', 'Bossaso',\n",
       "       'Lasanod', 'Colombo', 'Dongola', 'Dinsoor', 'Kampong Cham',\n",
       "       'Barranquilla', 'Buenos Aires', 'Peshawar', 'Bale Robe',\n",
       "       'Debre Marcos', 'Jimma', 'Shashemene'], dtype=object)"
      ]
     },
     "execution_count": 38,
     "metadata": {},
     "output_type": "execute_result"
    }
   ],
   "source": [
    "#note to self, as long as dom change data is in the first notebook, please delete all references to dom_change_data\n",
    "\n",
    "dom_change_data[\"market\"].unique()"
   ]
  },
  {
   "cell_type": "code",
   "execution_count": 39,
   "id": "bd8f08b5",
   "metadata": {},
   "outputs": [],
   "source": [
    "int_clean_data_cleaned['price'].replace(',','', regex=True, inplace=True)"
   ]
  },
  {
   "cell_type": "code",
   "execution_count": null,
   "id": "6a74b514",
   "metadata": {},
   "outputs": [],
   "source": []
  },
  {
   "cell_type": "code",
   "execution_count": 42,
   "id": "e6e9ddd8",
   "metadata": {},
   "outputs": [],
   "source": [
    "dom_clean_data\n",
    "dom_clean_data.to_csv(\"new_dom_clean_data.csv\",index=False)\n",
    "\n",
    "int_clean_data_cleaned.to_csv(\"cleaned_resources/int_clean_data_cleaned.csv\",index=False)\n",
    "\n"
   ]
  },
  {
   "cell_type": "code",
   "execution_count": 41,
   "id": "eb1570a5",
   "metadata": {},
   "outputs": [
    {
     "data": {
      "text/html": [
       "<div>\n",
       "<style scoped>\n",
       "    .dataframe tbody tr th:only-of-type {\n",
       "        vertical-align: middle;\n",
       "    }\n",
       "\n",
       "    .dataframe tbody tr th {\n",
       "        vertical-align: top;\n",
       "    }\n",
       "\n",
       "    .dataframe thead th {\n",
       "        text-align: right;\n",
       "    }\n",
       "</style>\n",
       "<table border=\"1\" class=\"dataframe\">\n",
       "  <thead>\n",
       "    <tr style=\"text-align: right;\">\n",
       "      <th></th>\n",
       "      <th>month</th>\n",
       "      <th>country</th>\n",
       "      <th>price_type</th>\n",
       "      <th>market</th>\n",
       "      <th>price</th>\n",
       "    </tr>\n",
       "  </thead>\n",
       "  <tbody>\n",
       "    <tr>\n",
       "      <th>1</th>\n",
       "      <td>5/1/2020</td>\n",
       "      <td>Cote d'Ivoire</td>\n",
       "      <td>Retail</td>\n",
       "      <td>Abidjan</td>\n",
       "      <td>0.61</td>\n",
       "    </tr>\n",
       "    <tr>\n",
       "      <th>2</th>\n",
       "      <td>4/1/2020</td>\n",
       "      <td>Cote d'Ivoire</td>\n",
       "      <td>Retail</td>\n",
       "      <td>Abidjan</td>\n",
       "      <td>0.59</td>\n",
       "    </tr>\n",
       "    <tr>\n",
       "      <th>3</th>\n",
       "      <td>3/1/2020</td>\n",
       "      <td>Cote d'Ivoire</td>\n",
       "      <td>Retail</td>\n",
       "      <td>Abidjan</td>\n",
       "      <td>0.61</td>\n",
       "    </tr>\n",
       "    <tr>\n",
       "      <th>4</th>\n",
       "      <td>2/1/2020</td>\n",
       "      <td>Cote d'Ivoire</td>\n",
       "      <td>Retail</td>\n",
       "      <td>Abidjan</td>\n",
       "      <td>0.63</td>\n",
       "    </tr>\n",
       "    <tr>\n",
       "      <th>5</th>\n",
       "      <td>1/1/2020</td>\n",
       "      <td>Cote d'Ivoire</td>\n",
       "      <td>Retail</td>\n",
       "      <td>Abidjan</td>\n",
       "      <td>0.68</td>\n",
       "    </tr>\n",
       "  </tbody>\n",
       "</table>\n",
       "</div>"
      ],
      "text/plain": [
       "      month        country price_type   market  price\n",
       "1  5/1/2020  Cote d'Ivoire     Retail  Abidjan   0.61\n",
       "2  4/1/2020  Cote d'Ivoire     Retail  Abidjan   0.59\n",
       "3  3/1/2020  Cote d'Ivoire     Retail  Abidjan   0.61\n",
       "4  2/1/2020  Cote d'Ivoire     Retail  Abidjan   0.63\n",
       "5  1/1/2020  Cote d'Ivoire     Retail  Abidjan   0.68"
      ]
     },
     "execution_count": 41,
     "metadata": {},
     "output_type": "execute_result"
    }
   ],
   "source": [
    "dom_clean_data.head()"
   ]
  },
  {
   "cell_type": "code",
   "execution_count": null,
   "id": "53ea5842",
   "metadata": {},
   "outputs": [],
   "source": []
  }
 ],
 "metadata": {
  "kernelspec": {
   "display_name": "Python 3 (ipykernel)",
   "language": "python",
   "name": "python3"
  },
  "language_info": {
   "codemirror_mode": {
    "name": "ipython",
    "version": 3
   },
   "file_extension": ".py",
   "mimetype": "text/x-python",
   "name": "python",
   "nbconvert_exporter": "python",
   "pygments_lexer": "ipython3",
   "version": "3.10.9"
  }
 },
 "nbformat": 4,
 "nbformat_minor": 5
}
